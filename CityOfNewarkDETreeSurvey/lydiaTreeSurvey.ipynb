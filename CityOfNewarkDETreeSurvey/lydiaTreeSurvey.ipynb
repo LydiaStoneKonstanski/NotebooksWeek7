{
 "cells": [
  {
   "cell_type": "code",
   "execution_count": 1,
   "id": "c58543e8-cde7-486c-859b-107dca8058d1",
   "metadata": {},
   "outputs": [],
   "source": [
    "import pandas as pd\n",
    "import numpy as np"
   ]
  },
  {
   "cell_type": "markdown",
   "id": "5f118b89-4a25-4ae1-9513-dc33cee73709",
   "metadata": {},
   "source": [
    "The data folder contains a file named \"newark_tree_data.csv\". Read this file into a dataframe."
   ]
  },
  {
   "cell_type": "code",
   "execution_count": 2,
   "id": "025c5c1c-ca74-4cda-bdcb-ece67d65fdd5",
   "metadata": {},
   "outputs": [],
   "source": [
    "df = pd.read_csv(\"data/newark_tree_data.csv\")"
   ]
  },
  {
   "cell_type": "code",
   "execution_count": 3,
   "id": "dde5ed01-ecbd-4a63-b664-3ac084d91457",
   "metadata": {},
   "outputs": [
    {
     "data": {
      "text/html": [
       "<div>\n",
       "<style scoped>\n",
       "    .dataframe tbody tr th:only-of-type {\n",
       "        vertical-align: middle;\n",
       "    }\n",
       "\n",
       "    .dataframe tbody tr th {\n",
       "        vertical-align: top;\n",
       "    }\n",
       "\n",
       "    .dataframe thead th {\n",
       "        text-align: right;\n",
       "    }\n",
       "</style>\n",
       "<table border=\"1\" class=\"dataframe\">\n",
       "  <thead>\n",
       "    <tr style=\"text-align: right;\">\n",
       "      <th></th>\n",
       "      <th>ID</th>\n",
       "      <th>ON</th>\n",
       "      <th>AREA</th>\n",
       "      <th>ADDRESS</th>\n",
       "      <th>STREET</th>\n",
       "      <th>SITE</th>\n",
       "      <th>SIDE</th>\n",
       "      <th>ASSIGNED</th>\n",
       "      <th>COMMON</th>\n",
       "      <th>BOTANICAL</th>\n",
       "      <th>...</th>\n",
       "      <th>IMPROPMULC</th>\n",
       "      <th>IMPROPPRUN</th>\n",
       "      <th>NUTRIENTD</th>\n",
       "      <th>PEST</th>\n",
       "      <th>GIRDLING</th>\n",
       "      <th>STRESS</th>\n",
       "      <th>OHUTILITY</th>\n",
       "      <th>TOP_HEIGHT</th>\n",
       "      <th>CROWN_M</th>\n",
       "      <th>CROWN_DIE</th>\n",
       "    </tr>\n",
       "  </thead>\n",
       "  <tbody>\n",
       "    <tr>\n",
       "      <th>0</th>\n",
       "      <td>11.0</td>\n",
       "      <td>Elan Park</td>\n",
       "      <td>Elan Park</td>\n",
       "      <td>2</td>\n",
       "      <td>Blue Hen Rg</td>\n",
       "      <td>11.0</td>\n",
       "      <td>Front</td>\n",
       "      <td>False</td>\n",
       "      <td>arborvitae, eastern</td>\n",
       "      <td>Thuja occidentalis</td>\n",
       "      <td>...</td>\n",
       "      <td>False</td>\n",
       "      <td>False</td>\n",
       "      <td>False</td>\n",
       "      <td>False</td>\n",
       "      <td>False</td>\n",
       "      <td>False</td>\n",
       "      <td>No</td>\n",
       "      <td>40</td>\n",
       "      <td>0-5%</td>\n",
       "      <td>0-5%</td>\n",
       "    </tr>\n",
       "    <tr>\n",
       "      <th>1</th>\n",
       "      <td>12.0</td>\n",
       "      <td>Elan Park</td>\n",
       "      <td>Elan Park</td>\n",
       "      <td>2</td>\n",
       "      <td>Blue Hen Rg</td>\n",
       "      <td>12.0</td>\n",
       "      <td>Front</td>\n",
       "      <td>False</td>\n",
       "      <td>arborvitae, eastern</td>\n",
       "      <td>Thuja occidentalis</td>\n",
       "      <td>...</td>\n",
       "      <td>False</td>\n",
       "      <td>False</td>\n",
       "      <td>False</td>\n",
       "      <td>False</td>\n",
       "      <td>False</td>\n",
       "      <td>False</td>\n",
       "      <td>No</td>\n",
       "      <td>41</td>\n",
       "      <td>0-5%</td>\n",
       "      <td>0-5%</td>\n",
       "    </tr>\n",
       "    <tr>\n",
       "      <th>2</th>\n",
       "      <td>13.0</td>\n",
       "      <td>Elan Park</td>\n",
       "      <td>Elan Park</td>\n",
       "      <td>2</td>\n",
       "      <td>Blue Hen Rg</td>\n",
       "      <td>13.0</td>\n",
       "      <td>Front</td>\n",
       "      <td>False</td>\n",
       "      <td>pine, eastern white</td>\n",
       "      <td>Pinus strobus</td>\n",
       "      <td>...</td>\n",
       "      <td>False</td>\n",
       "      <td>False</td>\n",
       "      <td>False</td>\n",
       "      <td>False</td>\n",
       "      <td>True</td>\n",
       "      <td>False</td>\n",
       "      <td>No</td>\n",
       "      <td>54</td>\n",
       "      <td>0-5%</td>\n",
       "      <td>6-10%</td>\n",
       "    </tr>\n",
       "    <tr>\n",
       "      <th>3</th>\n",
       "      <td>14.0</td>\n",
       "      <td>Elan Park</td>\n",
       "      <td>Elan Park</td>\n",
       "      <td>2</td>\n",
       "      <td>Blue Hen Rg</td>\n",
       "      <td>14.0</td>\n",
       "      <td>Front</td>\n",
       "      <td>False</td>\n",
       "      <td>whitecedar, Atlantic</td>\n",
       "      <td>Chamaecyparis thyoides</td>\n",
       "      <td>...</td>\n",
       "      <td>False</td>\n",
       "      <td>False</td>\n",
       "      <td>False</td>\n",
       "      <td>False</td>\n",
       "      <td>True</td>\n",
       "      <td>False</td>\n",
       "      <td>No</td>\n",
       "      <td>57</td>\n",
       "      <td>11-15%</td>\n",
       "      <td>26-30%</td>\n",
       "    </tr>\n",
       "    <tr>\n",
       "      <th>4</th>\n",
       "      <td>15.0</td>\n",
       "      <td>Elan Park</td>\n",
       "      <td>Elan Park</td>\n",
       "      <td>2</td>\n",
       "      <td>Blue Hen Rg</td>\n",
       "      <td>15.0</td>\n",
       "      <td>Front</td>\n",
       "      <td>False</td>\n",
       "      <td>whitecedar, Atlantic</td>\n",
       "      <td>Chamaecyparis thyoides</td>\n",
       "      <td>...</td>\n",
       "      <td>False</td>\n",
       "      <td>False</td>\n",
       "      <td>False</td>\n",
       "      <td>False</td>\n",
       "      <td>True</td>\n",
       "      <td>False</td>\n",
       "      <td>No</td>\n",
       "      <td>55</td>\n",
       "      <td>11-15%</td>\n",
       "      <td>21-25%</td>\n",
       "    </tr>\n",
       "  </tbody>\n",
       "</table>\n",
       "<p>5 rows × 54 columns</p>\n",
       "</div>"
      ],
      "text/plain": [
       "     ID         ON       AREA  ADDRESS       STREET  SITE   SIDE  ASSIGNED  \\\n",
       "0  11.0  Elan Park  Elan Park        2  Blue Hen Rg  11.0  Front     False   \n",
       "1  12.0  Elan Park  Elan Park        2  Blue Hen Rg  12.0  Front     False   \n",
       "2  13.0  Elan Park  Elan Park        2  Blue Hen Rg  13.0  Front     False   \n",
       "3  14.0  Elan Park  Elan Park        2  Blue Hen Rg  14.0  Front     False   \n",
       "4  15.0  Elan Park  Elan Park        2  Blue Hen Rg  15.0  Front     False   \n",
       "\n",
       "                 COMMON               BOTANICAL  ... IMPROPMULC  IMPROPPRUN  \\\n",
       "0   arborvitae, eastern      Thuja occidentalis  ...      False       False   \n",
       "1   arborvitae, eastern      Thuja occidentalis  ...      False       False   \n",
       "2   pine, eastern white           Pinus strobus  ...      False       False   \n",
       "3  whitecedar, Atlantic  Chamaecyparis thyoides  ...      False       False   \n",
       "4  whitecedar, Atlantic  Chamaecyparis thyoides  ...      False       False   \n",
       "\n",
       "  NUTRIENTD   PEST GIRDLING STRESS  OHUTILITY  TOP_HEIGHT CROWN_M CROWN_DIE  \n",
       "0     False  False    False  False         No          40    0-5%      0-5%  \n",
       "1     False  False    False  False         No          41    0-5%      0-5%  \n",
       "2     False  False     True  False         No          54    0-5%     6-10%  \n",
       "3     False  False     True  False         No          57  11-15%    26-30%  \n",
       "4     False  False     True  False         No          55  11-15%    21-25%  \n",
       "\n",
       "[5 rows x 54 columns]"
      ]
     },
     "execution_count": 3,
     "metadata": {},
     "output_type": "execute_result"
    }
   ],
   "source": [
    "df.head()"
   ]
  },
  {
   "cell_type": "code",
   "execution_count": 4,
   "id": "65ed998a-a827-4f6c-8c45-817aebf54835",
   "metadata": {},
   "outputs": [],
   "source": [
    "shape = df.shape"
   ]
  },
  {
   "cell_type": "code",
   "execution_count": 5,
   "id": "c9afe5e2-e08a-455e-8372-289a2cd7103f",
   "metadata": {},
   "outputs": [
    {
     "name": "stdout",
     "output_type": "stream",
     "text": [
      "Number of columns : 54\n"
     ]
    }
   ],
   "source": [
    "print('Number of columns :', shape[1])"
   ]
  },
  {
   "cell_type": "code",
   "execution_count": 6,
   "id": "e8f8fc30-96c9-4f8b-b1ef-1bf3f8e675ed",
   "metadata": {},
   "outputs": [],
   "source": [
    "column_names = list(df.columns)"
   ]
  },
  {
   "cell_type": "code",
   "execution_count": 7,
   "id": "dd634aae-923e-4259-8947-b210534ad307",
   "metadata": {},
   "outputs": [
    {
     "data": {
      "text/plain": [
       "['ID',\n",
       " 'ON',\n",
       " 'AREA',\n",
       " 'ADDRESS',\n",
       " 'STREET',\n",
       " 'SITE',\n",
       " 'SIDE',\n",
       " 'ASSIGNED',\n",
       " 'COMMON',\n",
       " 'BOTANICAL',\n",
       " 'CULTIVAR',\n",
       " 'DBH',\n",
       " 'REMOVAL',\n",
       " 'STEMS',\n",
       " 'COND',\n",
       " 'MAINTPRIM',\n",
       " 'OBSERVE',\n",
       " 'INSPECT',\n",
       " 'LOCATION',\n",
       " 'NOTES',\n",
       " 'DATE',\n",
       " 'TIME',\n",
       " 'STAFF',\n",
       " 'XCOORD',\n",
       " 'YCOORD',\n",
       " 'FAILURE',\n",
       " 'LIKELIHOOD',\n",
       " 'TARGET',\n",
       " 'CONSEQ',\n",
       " 'RISK',\n",
       " 'UNIQUEID',\n",
       " 'EDITTIME',\n",
       " 'SPREAD',\n",
       " 'HEIGHT',\n",
       " 'CLEARANCE',\n",
       " 'DECAYCL',\n",
       " 'DECAYT',\n",
       " 'DECAYRF',\n",
       " 'DAMC',\n",
       " 'DAMT',\n",
       " 'DAMRF',\n",
       " 'CAVITYCL',\n",
       " 'CAVITYT',\n",
       " 'CAVITYRF',\n",
       " 'IMPROPMULC',\n",
       " 'IMPROPPRUN',\n",
       " 'NUTRIENTD',\n",
       " 'PEST',\n",
       " 'GIRDLING',\n",
       " 'STRESS',\n",
       " 'OHUTILITY',\n",
       " 'TOP_HEIGHT',\n",
       " 'CROWN_M',\n",
       " 'CROWN_DIE']"
      ]
     },
     "execution_count": 7,
     "metadata": {},
     "output_type": "execute_result"
    }
   ],
   "source": [
    "column_names"
   ]
  },
  {
   "cell_type": "code",
   "execution_count": 8,
   "id": "7e7a17c5-5b7f-44ae-888b-6e2de5f2ae5b",
   "metadata": {},
   "outputs": [],
   "source": [
    "df = pd.read_csv(\"data/newark_tree_data.csv\", \n",
    "                 index_col=None,\n",
    "                 usecols=['ID', 'UNIQUEID', 'COMMON', 'BOTANICAL', 'COND', 'RISK', 'HEIGHT'])[['ID', 'UNIQUEID', 'COMMON', 'BOTANICAL', 'COND', 'RISK', 'HEIGHT']]"
   ]
  },
  {
   "cell_type": "code",
   "execution_count": 9,
   "id": "4ee9ea41-78d7-4dab-8a9a-6cac1faf015a",
   "metadata": {},
   "outputs": [
    {
     "data": {
      "text/html": [
       "<div>\n",
       "<style scoped>\n",
       "    .dataframe tbody tr th:only-of-type {\n",
       "        vertical-align: middle;\n",
       "    }\n",
       "\n",
       "    .dataframe tbody tr th {\n",
       "        vertical-align: top;\n",
       "    }\n",
       "\n",
       "    .dataframe thead th {\n",
       "        text-align: right;\n",
       "    }\n",
       "</style>\n",
       "<table border=\"1\" class=\"dataframe\">\n",
       "  <thead>\n",
       "    <tr style=\"text-align: right;\">\n",
       "      <th></th>\n",
       "      <th>ID</th>\n",
       "      <th>UNIQUEID</th>\n",
       "      <th>COMMON</th>\n",
       "      <th>BOTANICAL</th>\n",
       "      <th>COND</th>\n",
       "      <th>RISK</th>\n",
       "      <th>HEIGHT</th>\n",
       "    </tr>\n",
       "  </thead>\n",
       "  <tbody>\n",
       "    <tr>\n",
       "      <th>0</th>\n",
       "      <td>11.0</td>\n",
       "      <td>LM 20150929141218</td>\n",
       "      <td>arborvitae, eastern</td>\n",
       "      <td>Thuja occidentalis</td>\n",
       "      <td>Good</td>\n",
       "      <td>Low</td>\n",
       "      <td>40</td>\n",
       "    </tr>\n",
       "    <tr>\n",
       "      <th>1</th>\n",
       "      <td>12.0</td>\n",
       "      <td>LM 20150929141418</td>\n",
       "      <td>arborvitae, eastern</td>\n",
       "      <td>Thuja occidentalis</td>\n",
       "      <td>Very Good</td>\n",
       "      <td>Low</td>\n",
       "      <td>40</td>\n",
       "    </tr>\n",
       "    <tr>\n",
       "      <th>2</th>\n",
       "      <td>13.0</td>\n",
       "      <td>LM 20150929141844</td>\n",
       "      <td>pine, eastern white</td>\n",
       "      <td>Pinus strobus</td>\n",
       "      <td>Good</td>\n",
       "      <td>Low</td>\n",
       "      <td>54</td>\n",
       "    </tr>\n",
       "    <tr>\n",
       "      <th>3</th>\n",
       "      <td>14.0</td>\n",
       "      <td>LM 20150929142424</td>\n",
       "      <td>whitecedar, Atlantic</td>\n",
       "      <td>Chamaecyparis thyoides</td>\n",
       "      <td>Fair</td>\n",
       "      <td>Low</td>\n",
       "      <td>56</td>\n",
       "    </tr>\n",
       "    <tr>\n",
       "      <th>4</th>\n",
       "      <td>15.0</td>\n",
       "      <td>LM 20150929143018</td>\n",
       "      <td>whitecedar, Atlantic</td>\n",
       "      <td>Chamaecyparis thyoides</td>\n",
       "      <td>Fair</td>\n",
       "      <td>Low</td>\n",
       "      <td>55</td>\n",
       "    </tr>\n",
       "    <tr>\n",
       "      <th>...</th>\n",
       "      <td>...</td>\n",
       "      <td>...</td>\n",
       "      <td>...</td>\n",
       "      <td>...</td>\n",
       "      <td>...</td>\n",
       "      <td>...</td>\n",
       "      <td>...</td>\n",
       "    </tr>\n",
       "    <tr>\n",
       "      <th>4188</th>\n",
       "      <td>4189.0</td>\n",
       "      <td>SR 20151104153437</td>\n",
       "      <td>Japanese pagodatree</td>\n",
       "      <td>Styphnolobium japonicum</td>\n",
       "      <td>Good</td>\n",
       "      <td>Low</td>\n",
       "      <td>50</td>\n",
       "    </tr>\n",
       "    <tr>\n",
       "      <th>4189</th>\n",
       "      <td>4190.0</td>\n",
       "      <td>SR 20151104153555</td>\n",
       "      <td>oak, sawtooth</td>\n",
       "      <td>Quercus acutissima</td>\n",
       "      <td>Good</td>\n",
       "      <td>Low</td>\n",
       "      <td>55</td>\n",
       "    </tr>\n",
       "    <tr>\n",
       "      <th>4190</th>\n",
       "      <td>4191.0</td>\n",
       "      <td>SR 20151104153647</td>\n",
       "      <td>Japanese pagodatree</td>\n",
       "      <td>Styphnolobium japonicum</td>\n",
       "      <td>Fair</td>\n",
       "      <td>Low</td>\n",
       "      <td>45</td>\n",
       "    </tr>\n",
       "    <tr>\n",
       "      <th>4191</th>\n",
       "      <td>4192.0</td>\n",
       "      <td>SR 20151104160909</td>\n",
       "      <td>sycamore, American</td>\n",
       "      <td>Platanus occidentalis</td>\n",
       "      <td>Good</td>\n",
       "      <td>Low</td>\n",
       "      <td>80</td>\n",
       "    </tr>\n",
       "    <tr>\n",
       "      <th>4192</th>\n",
       "      <td>4193.0</td>\n",
       "      <td>SR 20151104161140</td>\n",
       "      <td>ash, white</td>\n",
       "      <td>Fraxinus americana</td>\n",
       "      <td>Fair</td>\n",
       "      <td>Low</td>\n",
       "      <td>70</td>\n",
       "    </tr>\n",
       "  </tbody>\n",
       "</table>\n",
       "<p>4193 rows × 7 columns</p>\n",
       "</div>"
      ],
      "text/plain": [
       "          ID           UNIQUEID                COMMON  \\\n",
       "0       11.0  LM 20150929141218   arborvitae, eastern   \n",
       "1       12.0  LM 20150929141418   arborvitae, eastern   \n",
       "2       13.0  LM 20150929141844   pine, eastern white   \n",
       "3       14.0  LM 20150929142424  whitecedar, Atlantic   \n",
       "4       15.0  LM 20150929143018  whitecedar, Atlantic   \n",
       "...      ...                ...                   ...   \n",
       "4188  4189.0  SR 20151104153437   Japanese pagodatree   \n",
       "4189  4190.0  SR 20151104153555         oak, sawtooth   \n",
       "4190  4191.0  SR 20151104153647   Japanese pagodatree   \n",
       "4191  4192.0  SR 20151104160909    sycamore, American   \n",
       "4192  4193.0  SR 20151104161140            ash, white   \n",
       "\n",
       "                    BOTANICAL       COND RISK  HEIGHT  \n",
       "0          Thuja occidentalis       Good  Low      40  \n",
       "1          Thuja occidentalis  Very Good  Low      40  \n",
       "2               Pinus strobus       Good  Low      54  \n",
       "3      Chamaecyparis thyoides       Fair  Low      56  \n",
       "4      Chamaecyparis thyoides       Fair  Low      55  \n",
       "...                       ...        ...  ...     ...  \n",
       "4188  Styphnolobium japonicum       Good  Low      50  \n",
       "4189       Quercus acutissima       Good  Low      55  \n",
       "4190  Styphnolobium japonicum       Fair  Low      45  \n",
       "4191    Platanus occidentalis       Good  Low      80  \n",
       "4192       Fraxinus americana       Fair  Low      70  \n",
       "\n",
       "[4193 rows x 7 columns]"
      ]
     },
     "execution_count": 9,
     "metadata": {},
     "output_type": "execute_result"
    }
   ],
   "source": [
    "df"
   ]
  },
  {
   "cell_type": "code",
   "execution_count": 10,
   "id": "4099dd23-a400-4ee5-8950-ab1d4623fa4e",
   "metadata": {},
   "outputs": [
    {
     "data": {
      "text/html": [
       "<div>\n",
       "<style scoped>\n",
       "    .dataframe tbody tr th:only-of-type {\n",
       "        vertical-align: middle;\n",
       "    }\n",
       "\n",
       "    .dataframe tbody tr th {\n",
       "        vertical-align: top;\n",
       "    }\n",
       "\n",
       "    .dataframe thead th {\n",
       "        text-align: right;\n",
       "    }\n",
       "</style>\n",
       "<table border=\"1\" class=\"dataframe\">\n",
       "  <thead>\n",
       "    <tr style=\"text-align: right;\">\n",
       "      <th></th>\n",
       "      <th>UNIQUEID</th>\n",
       "      <th>COMMON</th>\n",
       "      <th>BOTANICAL</th>\n",
       "      <th>COND</th>\n",
       "      <th>RISK</th>\n",
       "      <th>HEIGHT</th>\n",
       "    </tr>\n",
       "    <tr>\n",
       "      <th>ID</th>\n",
       "      <th></th>\n",
       "      <th></th>\n",
       "      <th></th>\n",
       "      <th></th>\n",
       "      <th></th>\n",
       "      <th></th>\n",
       "    </tr>\n",
       "  </thead>\n",
       "  <tbody>\n",
       "    <tr>\n",
       "      <th>11.0</th>\n",
       "      <td>LM 20150929141218</td>\n",
       "      <td>arborvitae, eastern</td>\n",
       "      <td>Thuja occidentalis</td>\n",
       "      <td>Good</td>\n",
       "      <td>Low</td>\n",
       "      <td>40</td>\n",
       "    </tr>\n",
       "    <tr>\n",
       "      <th>12.0</th>\n",
       "      <td>LM 20150929141418</td>\n",
       "      <td>arborvitae, eastern</td>\n",
       "      <td>Thuja occidentalis</td>\n",
       "      <td>Very Good</td>\n",
       "      <td>Low</td>\n",
       "      <td>40</td>\n",
       "    </tr>\n",
       "    <tr>\n",
       "      <th>13.0</th>\n",
       "      <td>LM 20150929141844</td>\n",
       "      <td>pine, eastern white</td>\n",
       "      <td>Pinus strobus</td>\n",
       "      <td>Good</td>\n",
       "      <td>Low</td>\n",
       "      <td>54</td>\n",
       "    </tr>\n",
       "    <tr>\n",
       "      <th>14.0</th>\n",
       "      <td>LM 20150929142424</td>\n",
       "      <td>whitecedar, Atlantic</td>\n",
       "      <td>Chamaecyparis thyoides</td>\n",
       "      <td>Fair</td>\n",
       "      <td>Low</td>\n",
       "      <td>56</td>\n",
       "    </tr>\n",
       "    <tr>\n",
       "      <th>15.0</th>\n",
       "      <td>LM 20150929143018</td>\n",
       "      <td>whitecedar, Atlantic</td>\n",
       "      <td>Chamaecyparis thyoides</td>\n",
       "      <td>Fair</td>\n",
       "      <td>Low</td>\n",
       "      <td>55</td>\n",
       "    </tr>\n",
       "    <tr>\n",
       "      <th>...</th>\n",
       "      <td>...</td>\n",
       "      <td>...</td>\n",
       "      <td>...</td>\n",
       "      <td>...</td>\n",
       "      <td>...</td>\n",
       "      <td>...</td>\n",
       "    </tr>\n",
       "    <tr>\n",
       "      <th>4189.0</th>\n",
       "      <td>SR 20151104153437</td>\n",
       "      <td>Japanese pagodatree</td>\n",
       "      <td>Styphnolobium japonicum</td>\n",
       "      <td>Good</td>\n",
       "      <td>Low</td>\n",
       "      <td>50</td>\n",
       "    </tr>\n",
       "    <tr>\n",
       "      <th>4190.0</th>\n",
       "      <td>SR 20151104153555</td>\n",
       "      <td>oak, sawtooth</td>\n",
       "      <td>Quercus acutissima</td>\n",
       "      <td>Good</td>\n",
       "      <td>Low</td>\n",
       "      <td>55</td>\n",
       "    </tr>\n",
       "    <tr>\n",
       "      <th>4191.0</th>\n",
       "      <td>SR 20151104153647</td>\n",
       "      <td>Japanese pagodatree</td>\n",
       "      <td>Styphnolobium japonicum</td>\n",
       "      <td>Fair</td>\n",
       "      <td>Low</td>\n",
       "      <td>45</td>\n",
       "    </tr>\n",
       "    <tr>\n",
       "      <th>4192.0</th>\n",
       "      <td>SR 20151104160909</td>\n",
       "      <td>sycamore, American</td>\n",
       "      <td>Platanus occidentalis</td>\n",
       "      <td>Good</td>\n",
       "      <td>Low</td>\n",
       "      <td>80</td>\n",
       "    </tr>\n",
       "    <tr>\n",
       "      <th>4193.0</th>\n",
       "      <td>SR 20151104161140</td>\n",
       "      <td>ash, white</td>\n",
       "      <td>Fraxinus americana</td>\n",
       "      <td>Fair</td>\n",
       "      <td>Low</td>\n",
       "      <td>70</td>\n",
       "    </tr>\n",
       "  </tbody>\n",
       "</table>\n",
       "<p>4193 rows × 6 columns</p>\n",
       "</div>"
      ],
      "text/plain": [
       "                 UNIQUEID                COMMON                BOTANICAL  \\\n",
       "ID                                                                         \n",
       "11.0    LM 20150929141218   arborvitae, eastern       Thuja occidentalis   \n",
       "12.0    LM 20150929141418   arborvitae, eastern       Thuja occidentalis   \n",
       "13.0    LM 20150929141844   pine, eastern white            Pinus strobus   \n",
       "14.0    LM 20150929142424  whitecedar, Atlantic   Chamaecyparis thyoides   \n",
       "15.0    LM 20150929143018  whitecedar, Atlantic   Chamaecyparis thyoides   \n",
       "...                   ...                   ...                      ...   \n",
       "4189.0  SR 20151104153437   Japanese pagodatree  Styphnolobium japonicum   \n",
       "4190.0  SR 20151104153555         oak, sawtooth       Quercus acutissima   \n",
       "4191.0  SR 20151104153647   Japanese pagodatree  Styphnolobium japonicum   \n",
       "4192.0  SR 20151104160909    sycamore, American    Platanus occidentalis   \n",
       "4193.0  SR 20151104161140            ash, white       Fraxinus americana   \n",
       "\n",
       "             COND RISK  HEIGHT  \n",
       "ID                              \n",
       "11.0         Good  Low      40  \n",
       "12.0    Very Good  Low      40  \n",
       "13.0         Good  Low      54  \n",
       "14.0         Fair  Low      56  \n",
       "15.0         Fair  Low      55  \n",
       "...           ...  ...     ...  \n",
       "4189.0       Good  Low      50  \n",
       "4190.0       Good  Low      55  \n",
       "4191.0       Fair  Low      45  \n",
       "4192.0       Good  Low      80  \n",
       "4193.0       Fair  Low      70  \n",
       "\n",
       "[4193 rows x 6 columns]"
      ]
     },
     "execution_count": 10,
     "metadata": {},
     "output_type": "execute_result"
    }
   ],
   "source": [
    "df.set_index('ID')"
   ]
  },
  {
   "cell_type": "markdown",
   "id": "a94a44d9-51d7-44ff-8968-55883930b33c",
   "metadata": {},
   "source": [
    "The data narritive specifies that 4,193 sites were inventoried. Use the DataFrame shape attribute to verify the number of rows."
   ]
  },
  {
   "cell_type": "code",
   "execution_count": 11,
   "id": "897d7294-1d54-4d71-91be-26fcd261ffa8",
   "metadata": {},
   "outputs": [
    {
     "data": {
      "text/plain": [
       "4193"
      ]
     },
     "execution_count": 11,
     "metadata": {},
     "output_type": "execute_result"
    }
   ],
   "source": [
    "df.shape[0]"
   ]
  },
  {
   "cell_type": "code",
   "execution_count": 12,
   "id": "244d9147-9561-45e5-b0f6-6a3dcd77356f",
   "metadata": {},
   "outputs": [],
   "source": [
    "tree_stats = df['HEIGHT'].describe()"
   ]
  },
  {
   "cell_type": "code",
   "execution_count": 13,
   "id": "4b43bf86-9f4a-45d3-b43e-cef21ca60eea",
   "metadata": {},
   "outputs": [
    {
     "data": {
      "text/plain": [
       "count    4193.000000\n",
       "mean       55.311472\n",
       "std        36.293489\n",
       "min         0.000000\n",
       "25%        23.000000\n",
       "50%        50.000000\n",
       "75%        86.000000\n",
       "max       140.000000\n",
       "Name: HEIGHT, dtype: float64"
      ]
     },
     "execution_count": 13,
     "metadata": {},
     "output_type": "execute_result"
    }
   ],
   "source": [
    "tree_stats"
   ]
  },
  {
   "cell_type": "code",
   "execution_count": 14,
   "id": "770fd0fc-c321-4072-85ef-44e7b4b4a045",
   "metadata": {},
   "outputs": [],
   "source": [
    "import matplotlib\n",
    "import matplotlib.pyplot as plt\n",
    "plt.style.use('fivethirtyeight')"
   ]
  },
  {
   "cell_type": "code",
   "execution_count": 15,
   "id": "9abf9ecd-3fa1-4294-89b4-21ed35f1d4cd",
   "metadata": {},
   "outputs": [],
   "source": [
    "%matplotlib inline"
   ]
  },
  {
   "cell_type": "code",
   "execution_count": 16,
   "id": "2d5a1b64-a81d-4864-aec4-9b911ddabd59",
   "metadata": {},
   "outputs": [
    {
     "data": {
      "image/png": "[encoded data removed]",
      "text/plain": [
       "<Figure size 640x480 with 1 Axes>"
      ]
     },
     "metadata": {},
     "output_type": "display_data"
    }
   ],
   "source": [
    "plt.hist(x=df['HEIGHT'], bins = int(len(df['HEIGHT'])/10))\n",
    "plt.show()"
   ]
  },
  {
   "cell_type": "markdown",
   "id": "d26f56bf-40c9-4962-9d6c-2643dedec826",
   "metadata": {},
   "source": [
    "The data narrative specifies the following: \"A total of 4,193 sites were inventoried, including 4,087 trees, 100 stumps, and 6 vacant planting sites\"\n",
    "\n",
    "Earlier, we were able to validate the total number of entries in the DataFrame. Let's now dig in a bit deeper and validate the stumps and vacant planting sites."
   ]
  },
  {
   "cell_type": "markdown",
   "id": "5f33c1f8-e738-4380-8855-06a0c7e25986",
   "metadata": {},
   "source": [
    "How many stumps?"
   ]
  },
  {
   "cell_type": "code",
   "execution_count": 17,
   "id": "7c6748b6-4974-475f-99fe-3d7e28d8c7fe",
   "metadata": {},
   "outputs": [],
   "source": [
    "stumps = df[df.COMMON.str.contains(\"stump\")]"
   ]
  },
  {
   "cell_type": "code",
   "execution_count": 18,
   "id": "5368e4c6-393f-40c6-8bcf-8b51065b1e5c",
   "metadata": {},
   "outputs": [
    {
     "data": {
      "text/plain": [
       "100"
      ]
     },
     "execution_count": 18,
     "metadata": {},
     "output_type": "execute_result"
    }
   ],
   "source": [
    "len(stumps)"
   ]
  },
  {
   "cell_type": "markdown",
   "id": "bacff00e-237b-4197-9766-da67cf460307",
   "metadata": {},
   "source": [
    "How many entries are vacant sites?"
   ]
  },
  {
   "cell_type": "code",
   "execution_count": 19,
   "id": "16876561-e55d-446d-bb3d-12724e7368af",
   "metadata": {},
   "outputs": [],
   "source": [
    "vacant = df[df.BOTANICAL.str.contains(\"vacant\")]"
   ]
  },
  {
   "cell_type": "code",
   "execution_count": 20,
   "id": "1698b7a8-a45b-4c96-a5d4-624b10a8df36",
   "metadata": {},
   "outputs": [
    {
     "data": {
      "text/plain": [
       "6"
      ]
     },
     "execution_count": 20,
     "metadata": {},
     "output_type": "execute_result"
    }
   ],
   "source": [
    "len(vacant)"
   ]
  },
  {
   "cell_type": "raw",
   "id": "7d4dad78-1191-4175-b088-a3ff3abc67bf",
   "metadata": {},
   "source": [
    "df = pd.DataFrame"
   ]
  },
  {
   "cell_type": "markdown",
   "id": "5bca21c5-8969-4247-9b96-9ae4f59757a8",
   "metadata": {},
   "source": [
    "Determine all of the possible values describing the condition of a tree and their associated counts:"
   ]
  },
  {
   "cell_type": "code",
   "execution_count": 21,
   "id": "049947df-1aa3-4d5a-b09d-7ff7bca7c22e",
   "metadata": {},
   "outputs": [],
   "source": [
    "c_count = df[\"COND\"].value_counts()"
   ]
  },
  {
   "cell_type": "code",
   "execution_count": 22,
   "id": "422b274c-ba1f-46da-9511-5f450af60d05",
   "metadata": {},
   "outputs": [
    {
     "data": {
      "text/plain": [
       "COND\n",
       "Fair         1598\n",
       "Good         1168\n",
       "Poor          402\n",
       "Very Good     381\n",
       "Dead          218\n",
       "Excellent     163\n",
       "Very Poor      83\n",
       "Critical       74\n",
       "Name: count, dtype: int64"
      ]
     },
     "execution_count": 22,
     "metadata": {},
     "output_type": "execute_result"
    }
   ],
   "source": [
    "c_count"
   ]
  },
  {
   "cell_type": "markdown",
   "id": "20a6dbdb-672a-486f-bbaf-6cb301c9a2d6",
   "metadata": {},
   "source": [
    "Were these already in the order you would want them to be in order for a graph to make sense? \n",
    "If not, reorder  the Series."
   ]
  },
  {
   "cell_type": "code",
   "execution_count": 23,
   "id": "ed69132c-fa8e-459a-84dc-831aeb2b54bb",
   "metadata": {},
   "outputs": [],
   "source": [
    "#plt.style.use(\"fivethirtyeight\")\n",
    "c_frame = pd.DataFrame({'Tree Conditions': ['Excellent', 'Very Good', 'Good', 'Fair', 'Poor', 'Very Poor', 'Critical', 'Dead'], 'values':[163, 381, 1168, 1598, 402, 83, 74, 218]})\n"
   ]
  },
  {
   "cell_type": "code",
   "execution_count": 24,
   "id": "8685a49a-387b-4726-83f5-f290e4270371",
   "metadata": {},
   "outputs": [
    {
     "data": {
      "text/html": [
       "<div>\n",
       "<style scoped>\n",
       "    .dataframe tbody tr th:only-of-type {\n",
       "        vertical-align: middle;\n",
       "    }\n",
       "\n",
       "    .dataframe tbody tr th {\n",
       "        vertical-align: top;\n",
       "    }\n",
       "\n",
       "    .dataframe thead th {\n",
       "        text-align: right;\n",
       "    }\n",
       "</style>\n",
       "<table border=\"1\" class=\"dataframe\">\n",
       "  <thead>\n",
       "    <tr style=\"text-align: right;\">\n",
       "      <th></th>\n",
       "      <th>Tree Conditions</th>\n",
       "      <th>values</th>\n",
       "    </tr>\n",
       "  </thead>\n",
       "  <tbody>\n",
       "    <tr>\n",
       "      <th>0</th>\n",
       "      <td>Excellent</td>\n",
       "      <td>163</td>\n",
       "    </tr>\n",
       "    <tr>\n",
       "      <th>1</th>\n",
       "      <td>Very Good</td>\n",
       "      <td>381</td>\n",
       "    </tr>\n",
       "    <tr>\n",
       "      <th>2</th>\n",
       "      <td>Good</td>\n",
       "      <td>1168</td>\n",
       "    </tr>\n",
       "    <tr>\n",
       "      <th>3</th>\n",
       "      <td>Fair</td>\n",
       "      <td>1598</td>\n",
       "    </tr>\n",
       "    <tr>\n",
       "      <th>4</th>\n",
       "      <td>Poor</td>\n",
       "      <td>402</td>\n",
       "    </tr>\n",
       "    <tr>\n",
       "      <th>5</th>\n",
       "      <td>Very Poor</td>\n",
       "      <td>83</td>\n",
       "    </tr>\n",
       "    <tr>\n",
       "      <th>6</th>\n",
       "      <td>Critical</td>\n",
       "      <td>74</td>\n",
       "    </tr>\n",
       "    <tr>\n",
       "      <th>7</th>\n",
       "      <td>Dead</td>\n",
       "      <td>218</td>\n",
       "    </tr>\n",
       "  </tbody>\n",
       "</table>\n",
       "</div>"
      ],
      "text/plain": [
       "  Tree Conditions  values\n",
       "0       Excellent     163\n",
       "1       Very Good     381\n",
       "2            Good    1168\n",
       "3            Fair    1598\n",
       "4            Poor     402\n",
       "5       Very Poor      83\n",
       "6        Critical      74\n",
       "7            Dead     218"
      ]
     },
     "execution_count": 24,
     "metadata": {},
     "output_type": "execute_result"
    }
   ],
   "source": [
    "c_frame"
   ]
  },
  {
   "cell_type": "code",
   "execution_count": 25,
   "id": "c0c72ec0-cf39-4619-a27e-515dc5c7bc60",
   "metadata": {},
   "outputs": [
    {
     "ename": "AttributeError",
     "evalue": "Axes.set() got an unexpected keyword argument 'axisbg'",
     "output_type": "error",
     "traceback": [
      "\u001b[0;31m---------------------------------------------------------------------------\u001b[0m",
      "\u001b[0;31mAttributeError\u001b[0m                            Traceback (most recent call last)",
      "Cell \u001b[0;32mIn[25], line 1\u001b[0m\n\u001b[0;32m----> 1\u001b[0m ax \u001b[38;5;241m=\u001b[39m \u001b[43mplt\u001b[49m\u001b[38;5;241;43m.\u001b[39;49m\u001b[43maxes\u001b[49m\u001b[43m(\u001b[49m\u001b[43maxisbg\u001b[49m\u001b[38;5;241;43m=\u001b[39;49m\u001b[38;5;124;43m'\u001b[39;49m\u001b[38;5;124;43m#E6E6E6\u001b[39;49m\u001b[38;5;124;43m'\u001b[39;49m\u001b[43m)\u001b[49m\n\u001b[1;32m      2\u001b[0m ax\u001b[38;5;241m.\u001b[39mset_axisbelow(\u001b[38;5;28;01mTrue\u001b[39;00m)\n\u001b[1;32m      4\u001b[0m plt\u001b[38;5;241m.\u001b[39mgrid(color\u001b[38;5;241m=\u001b[39m\u001b[38;5;124m'\u001b[39m\u001b[38;5;124mw\u001b[39m\u001b[38;5;124m'\u001b[39m, linestyle\u001b[38;5;241m=\u001b[39m\u001b[38;5;124m'\u001b[39m\u001b[38;5;124msolid\u001b[39m\u001b[38;5;124m'\u001b[39m)\n",
      "File \u001b[0;32m~/Library/jupyterlab-desktop/jlab_server/lib/python3.12/site-packages/matplotlib/pyplot.py:1236\u001b[0m, in \u001b[0;36maxes\u001b[0;34m(arg, **kwargs)\u001b[0m\n\u001b[1;32m   1234\u001b[0m \u001b[38;5;28;01mif\u001b[39;00m arg \u001b[38;5;129;01mis\u001b[39;00m \u001b[38;5;28;01mNone\u001b[39;00m:\n\u001b[1;32m   1235\u001b[0m     \u001b[38;5;28;01mif\u001b[39;00m pos \u001b[38;5;129;01mis\u001b[39;00m \u001b[38;5;28;01mNone\u001b[39;00m:\n\u001b[0;32m-> 1236\u001b[0m         \u001b[38;5;28;01mreturn\u001b[39;00m \u001b[43mfig\u001b[49m\u001b[38;5;241;43m.\u001b[39;49m\u001b[43madd_subplot\u001b[49m\u001b[43m(\u001b[49m\u001b[38;5;241;43m*\u001b[39;49m\u001b[38;5;241;43m*\u001b[39;49m\u001b[43mkwargs\u001b[49m\u001b[43m)\u001b[49m\n\u001b[1;32m   1237\u001b[0m     \u001b[38;5;28;01melse\u001b[39;00m:\n\u001b[1;32m   1238\u001b[0m         \u001b[38;5;28;01mreturn\u001b[39;00m fig\u001b[38;5;241m.\u001b[39madd_axes(pos, \u001b[38;5;241m*\u001b[39m\u001b[38;5;241m*\u001b[39mkwargs)\n",
      "File \u001b[0;32m~/Library/jupyterlab-desktop/jlab_server/lib/python3.12/site-packages/matplotlib/figure.py:782\u001b[0m, in \u001b[0;36mFigureBase.add_subplot\u001b[0;34m(self, *args, **kwargs)\u001b[0m\n\u001b[1;32m    780\u001b[0m         args \u001b[38;5;241m=\u001b[39m \u001b[38;5;28mtuple\u001b[39m(\u001b[38;5;28mmap\u001b[39m(\u001b[38;5;28mint\u001b[39m, \u001b[38;5;28mstr\u001b[39m(args[\u001b[38;5;241m0\u001b[39m])))\n\u001b[1;32m    781\u001b[0m     projection_class, pkw \u001b[38;5;241m=\u001b[39m \u001b[38;5;28mself\u001b[39m\u001b[38;5;241m.\u001b[39m_process_projection_requirements(\u001b[38;5;241m*\u001b[39m\u001b[38;5;241m*\u001b[39mkwargs)\n\u001b[0;32m--> 782\u001b[0m     ax \u001b[38;5;241m=\u001b[39m \u001b[43mprojection_class\u001b[49m\u001b[43m(\u001b[49m\u001b[38;5;28;43mself\u001b[39;49m\u001b[43m,\u001b[49m\u001b[43m \u001b[49m\u001b[38;5;241;43m*\u001b[39;49m\u001b[43margs\u001b[49m\u001b[43m,\u001b[49m\u001b[43m \u001b[49m\u001b[38;5;241;43m*\u001b[39;49m\u001b[38;5;241;43m*\u001b[39;49m\u001b[43mpkw\u001b[49m\u001b[43m)\u001b[49m\n\u001b[1;32m    783\u001b[0m     key \u001b[38;5;241m=\u001b[39m (projection_class, pkw)\n\u001b[1;32m    784\u001b[0m \u001b[38;5;28;01mreturn\u001b[39;00m \u001b[38;5;28mself\u001b[39m\u001b[38;5;241m.\u001b[39m_add_axes_internal(ax, key)\n",
      "File \u001b[0;32m~/Library/jupyterlab-desktop/jlab_server/lib/python3.12/site-packages/matplotlib/axes/_base.py:692\u001b[0m, in \u001b[0;36m_AxesBase.__init__\u001b[0;34m(self, fig, facecolor, frameon, sharex, sharey, label, xscale, yscale, box_aspect, *args, **kwargs)\u001b[0m\n\u001b[1;32m    689\u001b[0m \u001b[38;5;28;01mif\u001b[39;00m yscale:\n\u001b[1;32m    690\u001b[0m     \u001b[38;5;28mself\u001b[39m\u001b[38;5;241m.\u001b[39mset_yscale(yscale)\n\u001b[0;32m--> 692\u001b[0m \u001b[38;5;28;43mself\u001b[39;49m\u001b[38;5;241;43m.\u001b[39;49m\u001b[43m_internal_update\u001b[49m\u001b[43m(\u001b[49m\u001b[43mkwargs\u001b[49m\u001b[43m)\u001b[49m\n\u001b[1;32m    694\u001b[0m \u001b[38;5;28;01mfor\u001b[39;00m name, axis \u001b[38;5;129;01min\u001b[39;00m \u001b[38;5;28mself\u001b[39m\u001b[38;5;241m.\u001b[39m_axis_map\u001b[38;5;241m.\u001b[39mitems():\n\u001b[1;32m    695\u001b[0m     axis\u001b[38;5;241m.\u001b[39mcallbacks\u001b[38;5;241m.\u001b[39m_connect_picklable(\n\u001b[1;32m    696\u001b[0m         \u001b[38;5;124m'\u001b[39m\u001b[38;5;124munits\u001b[39m\u001b[38;5;124m'\u001b[39m, \u001b[38;5;28mself\u001b[39m\u001b[38;5;241m.\u001b[39m_unit_change_handler(name))\n",
      "File \u001b[0;32m~/Library/jupyterlab-desktop/jlab_server/lib/python3.12/site-packages/matplotlib/artist.py:1219\u001b[0m, in \u001b[0;36mArtist._internal_update\u001b[0;34m(self, kwargs)\u001b[0m\n\u001b[1;32m   1212\u001b[0m \u001b[38;5;28;01mdef\u001b[39;00m \u001b[38;5;21m_internal_update\u001b[39m(\u001b[38;5;28mself\u001b[39m, kwargs):\n\u001b[1;32m   1213\u001b[0m \u001b[38;5;250m    \u001b[39m\u001b[38;5;124;03m\"\"\"\u001b[39;00m\n\u001b[1;32m   1214\u001b[0m \u001b[38;5;124;03m    Update artist properties without prenormalizing them, but generating\u001b[39;00m\n\u001b[1;32m   1215\u001b[0m \u001b[38;5;124;03m    errors as if calling `set`.\u001b[39;00m\n\u001b[1;32m   1216\u001b[0m \n\u001b[1;32m   1217\u001b[0m \u001b[38;5;124;03m    The lack of prenormalization is to maintain backcompatibility.\u001b[39;00m\n\u001b[1;32m   1218\u001b[0m \u001b[38;5;124;03m    \"\"\"\u001b[39;00m\n\u001b[0;32m-> 1219\u001b[0m     \u001b[38;5;28;01mreturn\u001b[39;00m \u001b[38;5;28;43mself\u001b[39;49m\u001b[38;5;241;43m.\u001b[39;49m\u001b[43m_update_props\u001b[49m\u001b[43m(\u001b[49m\n\u001b[1;32m   1220\u001b[0m \u001b[43m        \u001b[49m\u001b[43mkwargs\u001b[49m\u001b[43m,\u001b[49m\u001b[43m \u001b[49m\u001b[38;5;124;43m\"\u001b[39;49m\u001b[38;5;132;43;01m{cls.__name__}\u001b[39;49;00m\u001b[38;5;124;43m.set() got an unexpected keyword argument \u001b[39;49m\u001b[38;5;124;43m\"\u001b[39;49m\n\u001b[1;32m   1221\u001b[0m \u001b[43m        \u001b[49m\u001b[38;5;124;43m\"\u001b[39;49m\u001b[38;5;132;43;01m{prop_name!r}\u001b[39;49;00m\u001b[38;5;124;43m\"\u001b[39;49m\u001b[43m)\u001b[49m\n",
      "File \u001b[0;32m~/Library/jupyterlab-desktop/jlab_server/lib/python3.12/site-packages/matplotlib/artist.py:1193\u001b[0m, in \u001b[0;36mArtist._update_props\u001b[0;34m(self, props, errfmt)\u001b[0m\n\u001b[1;32m   1191\u001b[0m             func \u001b[38;5;241m=\u001b[39m \u001b[38;5;28mgetattr\u001b[39m(\u001b[38;5;28mself\u001b[39m, \u001b[38;5;124mf\u001b[39m\u001b[38;5;124m\"\u001b[39m\u001b[38;5;124mset_\u001b[39m\u001b[38;5;132;01m{\u001b[39;00mk\u001b[38;5;132;01m}\u001b[39;00m\u001b[38;5;124m\"\u001b[39m, \u001b[38;5;28;01mNone\u001b[39;00m)\n\u001b[1;32m   1192\u001b[0m             \u001b[38;5;28;01mif\u001b[39;00m \u001b[38;5;129;01mnot\u001b[39;00m \u001b[38;5;28mcallable\u001b[39m(func):\n\u001b[0;32m-> 1193\u001b[0m                 \u001b[38;5;28;01mraise\u001b[39;00m \u001b[38;5;167;01mAttributeError\u001b[39;00m(\n\u001b[1;32m   1194\u001b[0m                     errfmt\u001b[38;5;241m.\u001b[39mformat(\u001b[38;5;28mcls\u001b[39m\u001b[38;5;241m=\u001b[39m\u001b[38;5;28mtype\u001b[39m(\u001b[38;5;28mself\u001b[39m), prop_name\u001b[38;5;241m=\u001b[39mk))\n\u001b[1;32m   1195\u001b[0m             ret\u001b[38;5;241m.\u001b[39mappend(func(v))\n\u001b[1;32m   1196\u001b[0m \u001b[38;5;28;01mif\u001b[39;00m ret:\n",
      "\u001b[0;31mAttributeError\u001b[0m: Axes.set() got an unexpected keyword argument 'axisbg'"
     ]
    },
    {
     "data": {
      "text/plain": [
       "<Figure size 640x480 with 0 Axes>"
      ]
     },
     "metadata": {},
     "output_type": "display_data"
    }
   ],
   "source": [
    "ax = plt.axes(axisbg='#E6E6E6')\n",
    "ax.set_axisbelow(True)\n",
    "\n",
    "plt.grid(color='w', linestyle='solid')\n",
    "\n",
    "for spine in ax.spines.values():\n",
    "    spine.set_visible(False)\n",
    "\n",
    "ax.xaxis.tick_bottom()\n",
    "ax.yaxis.tick_left()\n",
    "\n",
    "ax.tick_params(colors= 'gray', direction='out')\n",
    "for tick in ax.get_xticklabels():\n",
    "    tick.set_color('gray')\n",
    "for tick in ax.get_yticklabels():\n",
    "    tick.set_color('gray')\n",
    "\n",
    "ax.hist(c_frame, edgecolor='#E6E6E6', color='#C4E538')"
   ]
  },
  {
   "cell_type": "code",
   "execution_count": null,
   "id": "9a01ef12-18e8-434c-8ccb-13f7d8d70414",
   "metadata": {},
   "outputs": [],
   "source": []
  },
  {
   "cell_type": "code",
   "execution_count": null,
   "id": "f689c8f9-ef42-4fcb-b0ac-0c61fc03a062",
   "metadata": {},
   "outputs": [],
   "source": []
  }
 ],
 "metadata": {
  "kernelspec": {
   "display_name": "Python 3 (ipykernel)",
   "language": "python",
   "name": "python3"
  },
  "language_info": {
   "codemirror_mode": {
    "name": "ipython",
    "version": 3
   },
   "file_extension": ".py",
   "mimetype": "text/x-python",
   "name": "python",
   "nbconvert_exporter": "python",
   "pygments_lexer": "ipython3",
   "version": "3.12.2"
  }
 },
 "nbformat": 4,
 "nbformat_minor": 5
}
