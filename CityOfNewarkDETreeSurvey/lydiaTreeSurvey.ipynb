{
 "cells": [
  {
   "cell_type": "code",
   "execution_count": 1,
   "id": "c58543e8-cde7-486c-859b-107dca8058d1",
   "metadata": {},
   "outputs": [],
   "source": [
    "import pandas as pd\n",
    "import numpy as np"
   ]
  },
  {
   "cell_type": "code",
   "execution_count": null,
   "id": "025c5c1c-ca74-4cda-bdcb-ece67d65fdd5",
   "metadata": {},
   "outputs": [],
   "source": [
    "df = CityOfNewarkDETreeSurvey/data/newark_tree_data.csv"
   ]
  }
 ],
 "metadata": {
  "kernelspec": {
   "display_name": "Python 3 (ipykernel)",
   "language": "python",
   "name": "python3"
  },
  "language_info": {
   "codemirror_mode": {
    "name": "ipython",
    "version": 3
   },
   "file_extension": ".py",
   "mimetype": "text/x-python",
   "name": "python",
   "nbconvert_exporter": "python",
   "pygments_lexer": "ipython3",
   "version": "3.12.2"
  }
 },
 "nbformat": 4,
 "nbformat_minor": 5
}
